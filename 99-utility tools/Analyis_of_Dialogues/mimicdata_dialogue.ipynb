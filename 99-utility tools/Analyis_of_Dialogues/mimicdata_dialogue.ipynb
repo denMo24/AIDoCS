{
 "cells": [
  {
   "cell_type": "markdown",
   "id": "0a7232c8-dca9-45c3-81e5-b4e081683777",
   "metadata": {},
   "source": [
    "Kernel: aidocs"
   ]
  },
  {
   "cell_type": "code",
   "execution_count": null,
   "id": "9af55c17-e01c-46ca-a203-a6da631562c7",
   "metadata": {},
   "outputs": [],
   "source": [
    "from pymongo import MongoClient\n",
    "import pandas as pd\n",
    "\n",
    "# Connect to MongoDB\n",
    "client = MongoClient('mongodb://localhost:27017/')\n",
    "db = client['MIMIC-IV']\n",
    "collection = db['NLP-EXPANDED-prammed-postprocessed_translation']\n",
    "\n",
    "# Query the collection\n",
    "docs = collection.find({}, projection={'_id': 1, 'stay_id': 1, 'json_data_used': 1, 'dialogue': 1, 'final_dialogue': 1, 'final_to_english': 1})\n",
    "\n",
    "# Create a list of dictionaries for each document\n",
    "data = []\n",
    "for doc in docs:\n",
    "    row = {\n",
    "        '_id': str(doc.get('_id', '')),\n",
    "        'stay_id': doc.get('stay_id', ''),\n",
    "        'json_data_used': doc.get('json_data_used', {}),\n",
    "        'dialogue': doc.get('dialogue', ''),\n",
    "        'final_dialogue': doc.get('final_dialogue', ''),\n",
    "        'final_to_english': doc.get('final_to_english', '')\n",
    "    }\n",
    "    data.append(row)\n",
    "\n",
    "# Create DataFrame\n",
    "df = pd.DataFrame(data)\n",
    "\n",
    "# Display the DataFrame\n",
    "print(df.head())"
   ]
  },
  {
   "cell_type": "code",
   "execution_count": null,
   "id": "f1aa96c9-cdfd-4b8d-947d-4d1f6746a752",
   "metadata": {},
   "outputs": [],
   "source": [
    "df"
   ]
  },
  {
   "cell_type": "code",
   "execution_count": null,
   "id": "05f1cdca-8a5e-4a6e-a54d-df82dbf24474",
   "metadata": {},
   "outputs": [],
   "source": [
    "import pandas as pd\n",
    "\n",
    "def modify_json_data(row):\n",
    "    # Define the structure of what to keep from json_data_used\n",
    "    keys_to_keep = {\n",
    "        \"ED-Triage-prammed\": [\"temperature\", \"heartrate\", \"resprate\", \"o2sat\", \"sbp\", \"dbp\", \"pain\", \"chiefcomplaint\"],\n",
    "        \"ED-VitalSigns-prammed\": [\"temperature\", \"heartrate\", \"resprate\", \"o2sat\", \"sbp\", \"dbp\"],\n",
    "        \"ED-Diagnosis-prammed\": [\"icd_title\"],\n",
    "        \"ED-Pyxis-prammed\": [\"name\"],\n",
    "        \"ED-Medrecon-prammed\": [\"name\"]\n",
    "    }\n",
    "\n",
    "    # Extract the json_data_used field from the row\n",
    "    json_data_used = row.get('json_data_used', {})\n",
    "    \n",
    "    # Initialize a dictionary to store the filtered data\n",
    "    filtered_json = {}\n",
    "\n",
    "    # Loop through each key and extract the specified fields\n",
    "    for key, fields in keys_to_keep.items():\n",
    "        if key in json_data_used and json_data_used[key] is not None:\n",
    "            filtered_json[key] = {field: json_data_used[key].get(field, None) for field in fields}\n",
    "    \n",
    "    # Return the modified json_data_used\n",
    "    return filtered_json"
   ]
  },
  {
   "cell_type": "code",
   "execution_count": null,
   "id": "8b57cea4-5054-4d4c-bbe1-5b9066acd333",
   "metadata": {},
   "outputs": [],
   "source": [
    "df['json_data_used'] = df.apply(lambda row: modify_json_data(row), axis=1)"
   ]
  },
  {
   "cell_type": "code",
   "execution_count": null,
   "id": "1f8fe0c8-0bc8-4960-a26b-229ba61bd866",
   "metadata": {},
   "outputs": [],
   "source": [
    "df"
   ]
  },
  {
   "cell_type": "code",
   "execution_count": null,
   "id": "bf6add9e-63b1-451f-8769-ee73bf4bf782",
   "metadata": {},
   "outputs": [],
   "source": [
    "\n",
    "df.loc[0, 'json_data_used']"
   ]
  },
  {
   "cell_type": "raw",
   "id": "2ba8e722-db3e-403a-adcc-11099f31fed5",
   "metadata": {},
   "source": [
    "import re\n",
    "import pandas as pd\n",
    "\n",
    "def check_presence(row):\n",
    "    # Extract the json_data_used field from the row\n",
    "    json_data_used = row['json_data_used']\n",
    "    \n",
    "    # Extract dialogue texts from the row\n",
    "    dialogue = row['dialogue'].lower()  # convert to lowercase\n",
    "    final_dialogue = row['final_dialogue'].lower()  # convert to lowercase\n",
    "    final_to_english = row['final_to_english'].lower()  # convert to lowercase\n",
    "    \n",
    "    # Initialize dictionary to keep track of presence\n",
    "    presence_data = {}\n",
    "\n",
    "    # Iterate through each key in the json_data_used\n",
    "    for key, details in json_data_used.items():\n",
    "        for field, value in details.items():\n",
    "            if value:\n",
    "                # Prepare the regex pattern to ignore case and handle partial word matches\n",
    "                pattern = re.escape(str(value).lower())  # escape to handle special characters\n",
    "                # Check presence in dialogues using regex search\n",
    "                presence_data[f\"{key}_{field}_in_dialogue\"] = 1 if re.search(pattern, dialogue) else 0\n",
    "                presence_data[f\"{key}_{field}_in_final_dialogue\"] = 1 if re.search(pattern, final_dialogue) else 0\n",
    "                presence_data[f\"{key}_{field}_in_final_to_english\"] = 1 if re.search(pattern, final_to_english) else 0\n",
    "    \n",
    "    return pd.Series(presence_data)\n",
    "\n",
    "# Apply the function to each row and join the results as new columns in the dataframe\n",
    "presence_columns = df.apply(check_presence, axis=1)\n",
    "df = pd.concat([df, presence_columns], axis=1)\n",
    "\n",
    "\n",
    "# Summarize the count of presences\n",
    "summary_counts = presence_columns.sum()\n",
    "print(summary_counts)"
   ]
  },
  {
   "cell_type": "raw",
   "id": "82f5359a-2500-4cdc-b3c0-6b7208f19a3b",
   "metadata": {},
   "source": [
    "import re\n",
    "\n",
    "def check_all_words_presence(row, field, value):\n",
    "    # Prepare a list of words from the icd_title, ignoring case\n",
    "    words = re.split(r'\\s+', value.lower())  # Split by any whitespace\n",
    "    text = row[field].lower()\n",
    "\n",
    "    # Check for the presence of each word in the text\n",
    "    all_words_present = all(re.search(re.escape(word), text) for word in words)\n",
    "\n",
    "    # Return 1 if all words are present, otherwise 0\n",
    "    return 1 if all_words_present else 0\n",
    "\n",
    "# Example value and field\n",
    "icd_title = \"Cellulitis of face\"\n",
    "field_to_check = 'dialogue'  # This can be 'dialogue', 'final_dialogue', or 'final_to_english'\n",
    "\n",
    "# Apply the function to each row for the specified field and icd_title\n",
    "df[f'all_words_hit_in_{field_to_check}'] = df.apply(lambda row: check_all_words_presence(row, field_to_check, icd_title), axis=1)\n",
    "\n"
   ]
  },
  {
   "cell_type": "code",
   "execution_count": null,
   "id": "cb3cf688-1fb9-4e90-8d44-ad769e3fdd0e",
   "metadata": {},
   "outputs": [],
   "source": [
    "import re\n",
    "import pandas as pd\n",
    "\n",
    "def clean_text(text):\n",
    "    # Normalize text by removing punctuation and converting to lower case\n",
    "    return re.sub(r'[^\\w\\s]', '', text.lower())\n",
    "\n",
    "def check_all_words_presence(row, fields):\n",
    "    # Get icd_title from json_data_used, specifically from 'ED-Diagnosis-prammed'\n",
    "    icd_title = row['json_data_used'].get('ED-Diagnosis-prammed', {}).get('icd_title', '')\n",
    "    \n",
    "    if not icd_title:  # If icd_title is missing or empty, return zeros for all checks\n",
    "        return {f\"{field}_count\": 0 for field in fields}\n",
    "    \n",
    "    # Clean and split the icd_title into words\n",
    "    words = re.split(r'\\s+', clean_text(icd_title))\n",
    "    \n",
    "    # Initialize result dictionary\n",
    "    results = {}\n",
    "    \n",
    "    # Check for presence of each word in each dialogue field\n",
    "    for field in fields:\n",
    "        text = clean_text(row.get(field, ''))  # Clean and get text of the field\n",
    "        # Check if all words are present using regex search\n",
    "        all_words_present = all(word in text for word in words)\n",
    "        results[f\"{field}_count\"] = 1 if all_words_present else 0\n",
    "    \n",
    "    return pd.Series(results)\n",
    "\n",
    "# Specify the dialogue fields to check\n",
    "dialogue_fields = ['dialogue', 'final_dialogue', 'final_to_english']\n",
    "\n",
    "# Apply the function to each row and assign the results to new columns with '_count' suffix\n",
    "new_columns = df.apply(lambda row: check_all_words_presence(row, dialogue_fields), axis=1)\n",
    "df = pd.concat([df, new_columns], axis=1)\n",
    "\n",
    "# Print summary of hits for each field\n",
    "for field in dialogue_fields:\n",
    "    print(f\"Total hits in '{field}_count': {df[f'{field}_count'].sum()}\")\n"
   ]
  },
  {
   "cell_type": "code",
   "execution_count": null,
   "id": "0048de35-c11d-4dd7-9f9a-910bbff00321",
   "metadata": {},
   "outputs": [],
   "source": [
    "df"
   ]
  },
  {
   "cell_type": "code",
   "execution_count": null,
   "id": "fb4f829b-6f99-40b3-a121-f7701a4d853b",
   "metadata": {},
   "outputs": [],
   "source": []
  }
 ],
 "metadata": {
  "kernelspec": {
   "display_name": "Python 3 (ipykernel)",
   "language": "python",
   "name": "python3"
  },
  "language_info": {
   "codemirror_mode": {
    "name": "ipython",
    "version": 3
   },
   "file_extension": ".py",
   "mimetype": "text/x-python",
   "name": "python",
   "nbconvert_exporter": "python",
   "pygments_lexer": "ipython3",
   "version": "3.11.8"
  }
 },
 "nbformat": 4,
 "nbformat_minor": 5
}
