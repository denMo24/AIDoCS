{
 "cells": [
  {
   "cell_type": "code",
   "execution_count": null,
   "id": "1290022c-e05b-4f2d-af34-8fa0784e205a",
   "metadata": {},
   "outputs": [],
   "source": [
    "import os\n",
    "from pymongo import MongoClient\n",
    "import pandas as pd"
   ]
  },
  {
   "cell_type": "code",
   "execution_count": null,
   "id": "b8f90a72-16a8-4a94-bf9b-559f8ab515bc",
   "metadata": {},
   "outputs": [],
   "source": [
    "# Connect to the MongoDB server\n",
    "client = MongoClient('mongodb://localhost:27017/')\n",
    "db = client['MIMIC-IV']"
   ]
  },
  {
   "cell_type": "code",
   "execution_count": null,
   "id": "c06eca1e-43f8-4cda-81cc-6da41aea52f0",
   "metadata": {},
   "outputs": [],
   "source": [
    "# List of new collections to create\n",
    "new_collections = [\n",
    "    \"ED-EdStays-unprammed\"\n",
    "]\n",
    "\n",
    "# Check existing collections\n",
    "existing_collections = db.list_collection_names()\n",
    "\n",
    "# Create collections if they don't exist\n",
    "for collection in new_collections:\n",
    "    if collection not in existing_collections:\n",
    "        db.create_collection(collection)\n",
    "        print(f\"Collection {collection} created.\")\n",
    "    else:\n",
    "        print(f\"Collection {collection} already exists.\")"
   ]
  },
  {
   "cell_type": "code",
   "execution_count": null,
   "id": "d8d91d42-5ddd-4106-bfb5-e5b20b46b8d2",
   "metadata": {},
   "outputs": [],
   "source": [
    "directory_path = os.getcwd()\n",
    "directory_path"
   ]
  },
  {
   "cell_type": "code",
   "execution_count": null,
   "id": "768b940c-9a16-4b17-aa15-66899b099dfe",
   "metadata": {},
   "outputs": [],
   "source": [
    "# List of CSV filenames to inspect\n",
    "csv_files = [\n",
    "    \"df_edstays_filtered.csv\"\n",
    "]\n",
    "\n",
    "# Function to inspect the CSV files\n",
    "def inspect_csv_files(csv_files, directory_path):\n",
    "    csv_summary = []\n",
    "\n",
    "    for csv_file in csv_files:\n",
    "        file_path = os.path.join(directory_path, csv_file)\n",
    "        if os.path.exists(file_path):\n",
    "            df = pd.read_csv(file_path)\n",
    "            num_rows = df.shape[0]\n",
    "            num_columns = df.shape[1]\n",
    "            column_names = df.columns.tolist()\n",
    "            num_nans_per_column = df.isna().sum().to_dict()\n",
    "            total_nans = df.isna().sum().sum()\n",
    "\n",
    "            summary = {\n",
    "                \"file_name\": csv_file,\n",
    "                \"num_rows\": num_rows,\n",
    "                \"num_columns\": num_columns,\n",
    "                \"column_names\": column_names,\n",
    "                \"num_nans_per_column\": num_nans_per_column,\n",
    "                \"total_nans\": total_nans\n",
    "            }\n",
    "\n",
    "            csv_summary.append(summary)\n",
    "        else:\n",
    "            print(f\"File {csv_file} does not exist.\")\n",
    "\n",
    "    return csv_summary\n",
    "\n",
    "# Inspect the CSV files\n",
    "csv_summary = inspect_csv_files(csv_files, directory_path)\n",
    "\n",
    "# Convert the summary to a DataFrame for easier inspection\n",
    "summary_df = pd.DataFrame(csv_summary)\n",
    "\n",
    "# Display the summary DataFrame\n",
    "summary_df"
   ]
  },
  {
   "cell_type": "code",
   "execution_count": null,
   "id": "ca132327-23b9-4471-83a7-9cbc8e3b005f",
   "metadata": {},
   "outputs": [],
   "source": [
    "csv_file = csv_files[0]\n",
    "file_path = os.path.join(directory_path, csv_file)\n",
    "print(file_path)\n",
    "df = pd.read_csv(file_path)\n",
    "df.describe()"
   ]
  },
  {
   "cell_type": "code",
   "execution_count": null,
   "id": "4ebbbb72-e9a3-4753-b8f1-af3caace68ac",
   "metadata": {},
   "outputs": [],
   "source": [
    "df"
   ]
  },
  {
   "cell_type": "code",
   "execution_count": null,
   "id": "89606702-2c80-4dc1-9031-478df98387bb",
   "metadata": {},
   "outputs": [],
   "source": [
    "def convert_to_string_and_load(df, collection_name, db):\n",
    "    if df is not None:\n",
    "        df = df.astype(str)  # Convert all DataFrame values to strings\n",
    "        db[collection_name].insert_many(df.to_dict('records'))\n",
    "        print(f\"Data inserted into {collection_name}.\")\n",
    "    else:\n",
    "        print(\"DataFrame is None. No data inserted.\")\n",
    "\n",
    "\n"
   ]
  },
  {
   "cell_type": "code",
   "execution_count": null,
   "id": "cea4e5b8-d5cb-4364-8971-143fa9bcb559",
   "metadata": {},
   "outputs": [],
   "source": [
    "convert_to_string_and_load(df, 'ED-EdStays-unprammed', db)"
   ]
  },
  {
   "cell_type": "code",
   "execution_count": null,
   "id": "3e02f0e0-d454-41bd-af5b-b488400976b8",
   "metadata": {},
   "outputs": [],
   "source": [
    "#convert_to_string_and_load(df_triage_chiefcomplaint, 'ED-Triage-prammed', db)"
   ]
  },
  {
   "cell_type": "code",
   "execution_count": null,
   "id": "d5698b5d-ef15-4efa-b1cd-c08efb4c57fc",
   "metadata": {},
   "outputs": [],
   "source": [
    "#convert_to_string_and_load(df_diagnosis_icdtitle, 'ED-Diagnosis-prammed', db)"
   ]
  },
  {
   "cell_type": "code",
   "execution_count": null,
   "id": "049f37af-c0aa-4c4e-ad44-c7091e5a62d5",
   "metadata": {},
   "outputs": [],
   "source": [
    "#convert_to_string_and_load(df_pyxis_name, 'ED-Pyxis-prammed', db)"
   ]
  },
  {
   "cell_type": "code",
   "execution_count": null,
   "id": "c380a908-74b3-4bf9-b28f-244d55e6d002",
   "metadata": {},
   "outputs": [],
   "source": [
    "#onvert_to_string_and_load(df_medrecon_name, 'ED-Medrecon-prammed', db)"
   ]
  },
  {
   "cell_type": "code",
   "execution_count": null,
   "id": "7979f980-c177-40ba-a591-eef2738f57cd",
   "metadata": {},
   "outputs": [],
   "source": [
    "#convert_to_string_and_load(df_vitalsigns_vitalsigns, 'ED-VitalSigns-prammed', db)"
   ]
  },
  {
   "cell_type": "code",
   "execution_count": null,
   "id": "faee2de0-2b77-448e-95a0-e2dc85f14e87",
   "metadata": {},
   "outputs": [],
   "source": []
  }
 ],
 "metadata": {
  "kernelspec": {
   "display_name": "Python 3 (ipykernel)",
   "language": "python",
   "name": "python3"
  },
  "language_info": {
   "codemirror_mode": {
    "name": "ipython",
    "version": 3
   },
   "file_extension": ".py",
   "mimetype": "text/x-python",
   "name": "python",
   "nbconvert_exporter": "python",
   "pygments_lexer": "ipython3",
   "version": "3.11.8"
  }
 },
 "nbformat": 4,
 "nbformat_minor": 5
}
